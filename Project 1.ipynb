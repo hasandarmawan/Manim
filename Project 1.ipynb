{
 "cells": [
  {
   "cell_type": "code",
   "execution_count": 2,
   "id": "3afd6cd4-9706-4a5b-b31d-2420126c804e",
   "metadata": {},
   "outputs": [
    {
     "data": {
      "text/html": [
       "<pre style=\"white-space:pre;overflow-x:auto;line-height:normal;font-family:Menlo,'DejaVu Sans Mono',consolas,'Courier New',monospace\">Manim Community <span style=\"color: #008000\">v0.17.3</span>\n",
       "\n",
       "</pre>\n"
      ],
      "text/plain": [
       "<rich.jupyter.JupyterRenderable at 0x1b6ffdcf2d0>"
      ]
     },
     "metadata": {},
     "output_type": "display_data"
    }
   ],
   "source": [
    "from manim import*"
   ]
  },
  {
   "cell_type": "code",
   "execution_count": 3,
   "id": "ec5e341d-178b-4d1b-86a8-6fb936a9daa3",
   "metadata": {},
   "outputs": [
    {
     "data": {
      "text/html": [
       "<pre style=\"white-space:pre;overflow-x:auto;line-height:normal;font-family:Menlo,'DejaVu Sans Mono',consolas,'Courier New',monospace\"><span style=\"color: #7fbfbf\">[08/30/23 07:33:32] </span><span style=\"color: #008000\">INFO</span>     Animation <span style=\"color: #008000\">0</span> : Using cached data <span style=\"font-weight: bold\">(</span>hash :     <a href=\"file://C:\\Python311\\Lib\\site-packages\\manim\\renderer\\cairo_renderer.py\"><span style=\"color: #7f7f7f\">cairo_renderer.py</span></a><span style=\"color: #7f7f7f\">:78</span>\n",
       "                             274514146_2999479107_223132457<span style=\"font-weight: bold\">)</span>                                 \n",
       "</pre>\n"
      ],
      "text/plain": [
       "<rich.jupyter.JupyterRenderable at 0x1b6ffdce790>"
      ]
     },
     "metadata": {},
     "output_type": "display_data"
    },
    {
     "name": "stderr",
     "output_type": "stream",
     "text": [
      "                                                                                                                       \r"
     ]
    },
    {
     "data": {
      "text/html": [
       "<pre style=\"white-space:pre;overflow-x:auto;line-height:normal;font-family:Menlo,'DejaVu Sans Mono',consolas,'Courier New',monospace\"><span style=\"color: #7fbfbf\">[08/30/23 07:33:33] </span><span style=\"color: #008000\">INFO</span>     Animation <span style=\"color: #008000\">1</span> : Using cached data <span style=\"font-weight: bold\">(</span>hash :     <a href=\"file://C:\\Python311\\Lib\\site-packages\\manim\\renderer\\cairo_renderer.py\"><span style=\"color: #7f7f7f\">cairo_renderer.py</span></a><span style=\"color: #7f7f7f\">:78</span>\n",
       "                             2789044632_1464917601_1489632887<span style=\"font-weight: bold\">)</span>                               \n",
       "</pre>\n"
      ],
      "text/plain": [
       "<rich.jupyter.JupyterRenderable at 0x1b6fff50d50>"
      ]
     },
     "metadata": {},
     "output_type": "display_data"
    },
    {
     "name": "stderr",
     "output_type": "stream",
     "text": [
      "                                                                                                                       \r"
     ]
    },
    {
     "data": {
      "text/html": [
       "<pre style=\"white-space:pre;overflow-x:auto;line-height:normal;font-family:Menlo,'DejaVu Sans Mono',consolas,'Courier New',monospace\"><span style=\"color: #7fbfbf\">                    </span><span style=\"color: #008000\">INFO</span>     Animation <span style=\"color: #008000\">2</span> : Using cached data <span style=\"font-weight: bold\">(</span>hash :     <a href=\"file://C:\\Python311\\Lib\\site-packages\\manim\\renderer\\cairo_renderer.py\"><span style=\"color: #7f7f7f\">cairo_renderer.py</span></a><span style=\"color: #7f7f7f\">:78</span>\n",
       "                             2789044632_2273140063_2346464151<span style=\"font-weight: bold\">)</span>                               \n",
       "</pre>\n"
      ],
      "text/plain": [
       "<rich.jupyter.JupyterRenderable at 0x1b6ffe977d0>"
      ]
     },
     "metadata": {},
     "output_type": "display_data"
    },
    {
     "name": "stderr",
     "output_type": "stream",
     "text": [
      "                                                                                                                       \r"
     ]
    },
    {
     "data": {
      "text/html": [
       "<pre style=\"white-space:pre;overflow-x:auto;line-height:normal;font-family:Menlo,'DejaVu Sans Mono',consolas,'Courier New',monospace\"><span style=\"color: #7fbfbf\">[08/30/23 07:33:36] </span><span style=\"color: #008000\">INFO</span>     Animation <span style=\"color: #008000\">3</span> : Partial movie file        <a href=\"file://C:\\Python311\\Lib\\site-packages\\manim\\scene\\scene_file_writer.py\"><span style=\"color: #7f7f7f\">scene_file_writer.py</span></a><span style=\"color: #7f7f7f\">:527</span>\n",
       "                             written in <span style=\"color: #008000\">'C:\\Users\\hajiu\\Manim\\Pembel</span>                         \n",
       "                             <span style=\"color: #008000\">ajaran\\media\\videos\\Pembelajaran\\720p30</span>                         \n",
       "                             <span style=\"color: #008000\">\\partial_movie_files\\Test\\2789044632_30</span>                         \n",
       "                             <span style=\"color: #008000\">73779459_1697167648.mp4'</span>                                        \n",
       "</pre>\n"
      ],
      "text/plain": [
       "<rich.jupyter.JupyterRenderable at 0x1b6ffdcf510>"
      ]
     },
     "metadata": {},
     "output_type": "display_data"
    },
    {
     "data": {
      "text/html": [
       "<pre style=\"white-space:pre;overflow-x:auto;line-height:normal;font-family:Menlo,'DejaVu Sans Mono',consolas,'Courier New',monospace\"><span style=\"color: #7fbfbf\">                    </span><span style=\"color: #008000\">INFO</span>     Combining to Movie file.                <a href=\"file://C:\\Python311\\Lib\\site-packages\\manim\\scene\\scene_file_writer.py\"><span style=\"color: #7f7f7f\">scene_file_writer.py</span></a><span style=\"color: #7f7f7f\">:617</span>\n",
       "</pre>\n"
      ],
      "text/plain": [
       "<rich.jupyter.JupyterRenderable at 0x1b6ffed2c50>"
      ]
     },
     "metadata": {},
     "output_type": "display_data"
    },
    {
     "data": {
      "text/html": [
       "<pre style=\"white-space:pre;overflow-x:auto;line-height:normal;font-family:Menlo,'DejaVu Sans Mono',consolas,'Courier New',monospace\"><span style=\"color: #7fbfbf\">[08/30/23 07:33:37] </span><span style=\"color: #008000\">INFO</span>                                             <a href=\"file://C:\\Python311\\Lib\\site-packages\\manim\\scene\\scene_file_writer.py\"><span style=\"color: #7f7f7f\">scene_file_writer.py</span></a><span style=\"color: #7f7f7f\">:736</span>\n",
       "                             <span style=\"color: #808000; font-weight: bold\">File</span> ready at <span style=\"color: #008000\">'C:\\Users\\hajiu\\Manim\\Pem</span>                         \n",
       "                             <span style=\"color: #008000\">belajaran\\media\\videos\\Pembelajaran\\720</span>                         \n",
       "                             <span style=\"color: #008000\">p30\\Test.mp4'</span>                                                   \n",
       "                                                                                             \n",
       "</pre>\n"
      ],
      "text/plain": [
       "<rich.jupyter.JupyterRenderable at 0x1b6ffed2d50>"
      ]
     },
     "metadata": {},
     "output_type": "display_data"
    },
    {
     "data": {
      "text/html": [
       "<pre style=\"white-space:pre;overflow-x:auto;line-height:normal;font-family:Menlo,'DejaVu Sans Mono',consolas,'Courier New',monospace\"><span style=\"color: #7fbfbf\">                    </span><span style=\"color: #008000\">INFO</span>     <span style=\"color: #808000; font-weight: bold\">Rendered</span> Test                                       <a href=\"file://C:\\Python311\\Lib\\site-packages\\manim\\scene\\scene.py\"><span style=\"color: #7f7f7f\">scene.py</span></a><span style=\"color: #7f7f7f\">:241</span>\n",
       "                             <span style=\"color: #808000; font-weight: bold\">Played</span> <span style=\"color: #008000\">4</span> <span style=\"color: #808000; font-weight: bold\">animations</span>                                             \n",
       "</pre>\n"
      ],
      "text/plain": [
       "<rich.jupyter.JupyterRenderable at 0x1b6ffef4210>"
      ]
     },
     "metadata": {},
     "output_type": "display_data"
    },
    {
     "data": {
      "text/html": [
       "<video src=\"media\\jupyter\\Test@2023-08-30@07-33-37.mp4\" controls autoplay loop style=\"max-width: 60%;\"  >\n",
       "      Your browser does not support the <code>video</code> element.\n",
       "    </video>"
      ],
      "text/plain": [
       "<IPython.core.display.Video object>"
      ]
     },
     "metadata": {},
     "output_type": "display_data"
    }
   ],
   "source": [
    "%%manim -qm Test\n",
    "\n",
    "class Test(Scene):\n",
    "    def construct(self):\n",
    "        c = Circle(2.5, color = BLUE, fill_opacity = 0.5)\n",
    "        self.play(DrawBorderThenFill(c), run_time = 1)\n",
    "        \n",
    "        title = Text(\"Hasan\", font_size = 80, slant = \"ITALIC\").shift(UP*0.3)\n",
    "        subtitle = Text(\"Darmawan\", slant = \"ITALIC\").shift(DOWN*0.5)\n",
    "        self.play(Write(title), Write(subtitle))\n",
    "\n",
    "        a= Arc(2.6, TAU*1 / 4, -TAU * 2.6/4, color = RED, stroke_width = 10)\n",
    "        self.play(Create(a))\n",
    "        \n",
    "        self.wait(3)"
   ]
  },
  {
   "cell_type": "raw",
   "id": "62ecb433-510b-44c2-80dc-b965aed34912",
   "metadata": {},
   "source": [
    "%%manim -qm Test\n",
    "\n",
    "This is a Jupyter Notebook cell magic command used to render a Manim animation. It tells Manim to render the animation defined in the Test class.\n"
   ]
  },
  {
   "cell_type": "raw",
   "id": "176ba38e-433a-4311-8ebe-aff3bf556d5f",
   "metadata": {},
   "source": [
    "class Test(Scene):\n",
    "    def construct(self):\n",
    "\n",
    "This defines a Python class named Test that inherits from Scene. In Manim, animations are defined as methods within a Scene subclass, and here, you're defining the construct method for this scene."
   ]
  },
  {
   "cell_type": "raw",
   "id": "0fbd06c7-d474-4935-b90b-2db20d7a0950",
   "metadata": {},
   "source": [
    "c = Circle(2.5, color=BLUE, fill_opacity=0.5)\n",
    "self.play(DrawBorderThenFill(c), run_time=1)\n",
    "\n",
    "This code creates a blue circle with a radius of 2.5 and a fill opacity of 0.5. Then, it plays an animation where the circle is first drawn with a border and then filled. The run_time parameter specifies the duration of this animation in seconds."
   ]
  },
  {
   "cell_type": "raw",
   "id": "8eae671b-4475-4225-88ae-622678962cfa",
   "metadata": {},
   "source": [
    "title = Text(\"Hasan\", font_size=80, slant=\"ITALIC\").shift(UP*0.3)\n",
    "subtitle = Text(\"Darmawan\", slant=\"ITALIC\").shift(DOWN*0.5)\n",
    "self.play(Write(title), Write(subtitle))\n",
    "\n",
    "Here, you're creating two text objects, \"Hasan\" and \"Darmawan,\" with specific font sizes and italic slants. Then, you play an animation where these text objects are written onto the screen."
   ]
  },
  {
   "cell_type": "raw",
   "id": "ab6ae97f-ac43-4f8b-81ce-db0feb02984e",
   "metadata": {},
   "source": [
    "a = Arc(2.6, TAU*1/4, -TAU*2.6/4, color=RED, stroke_width=10)\n",
    "self.play(Create(a))\n",
    "\n",
    "This code creates a red arc with a radius of 2.6, starting at a quarter of a turn counterclockwise from the positive x-axis (TAU*1/4) and ending at half a turn clockwise (-TAU*2.6/4). The Create animation is used to animate the drawing of this arc."
   ]
  },
  {
   "cell_type": "raw",
   "id": "b3304c3c-8d3d-42b5-833d-58198c433bb9",
   "metadata": {},
   "source": [
    "self.wait(3)\n",
    "\n",
    "Finally, you're adding a pause in the animation for 3 seconds using self.wait(3). This causes the animation to wait for 3 seconds before completing."
   ]
  }
 ],
 "metadata": {
  "kernelspec": {
   "display_name": "Python 3 (ipykernel)",
   "language": "python",
   "name": "python3"
  },
  "language_info": {
   "codemirror_mode": {
    "name": "ipython",
    "version": 3
   },
   "file_extension": ".py",
   "mimetype": "text/x-python",
   "name": "python",
   "nbconvert_exporter": "python",
   "pygments_lexer": "ipython3",
   "version": "3.11.5"
  }
 },
 "nbformat": 4,
 "nbformat_minor": 5
}
